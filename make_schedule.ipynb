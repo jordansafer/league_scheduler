{
 "cells": [
  {
   "cell_type": "code",
   "execution_count": null,
   "id": "16f63d51-fc38-4ba4-a44a-85d0247084b9",
   "metadata": {},
   "outputs": [],
   "source": [
    "teams = 16\n",
    "weeks = 10"
   ]
  },
  {
   "cell_type": "code",
   "execution_count": 2,
   "id": "84ec50e1-a08a-4718-90e0-d13e2d9ba5e5",
   "metadata": {
    "execution": {
     "iopub.execute_input": "2023-01-26T04:56:58.546316Z",
     "iopub.status.busy": "2023-01-26T04:56:58.545617Z",
     "iopub.status.idle": "2023-01-26T04:56:58.553855Z",
     "shell.execute_reply": "2023-01-26T04:56:58.553221Z",
     "shell.execute_reply.started": "2023-01-26T04:56:58.546291Z"
    },
    "tags": []
   },
   "outputs": [],
   "source": [
    "import random\n",
    "\n",
    "def generate_week(number_of_teams, already_played, home_games_remaining):\n",
    "    scheduled_this_week = set()\n",
    "    games_this_week = []\n",
    "    \n",
    "    home_ordering = list(range(number_of_teams))\n",
    "    #random.shuffle(home_ordering)\n",
    "    for home_team in home_ordering:\n",
    "        if home_team in scheduled_this_week: continue # team is already scheduled this week\n",
    "            \n",
    "        # Count it as a home game if there are home games remaining\n",
    "        if home_games_remaining[home_team] == 0: continue\n",
    "        home_games_remaining[home_team] -= 1\n",
    "        \n",
    "        away_ordering = list(range(number_of_teams))\n",
    "        #random.shuffle(away_ordering)\n",
    "        for away_team in away_ordering:\n",
    "            if away_team in scheduled_this_week: continue # opponent is already scheduled\n",
    "            if home_team == away_team: continue # team won't play itself\n",
    "            \n",
    "            matchup = home_team, away_team\n",
    "            sorted_match = tuple(sorted(matchup)) # use sorted match to check if teams already played\n",
    "            if sorted_match in already_played: continue # teams have played earlier in the season\n",
    "            \n",
    "            # schedule the game!\n",
    "            already_played.add(sorted_match)\n",
    "            scheduled_this_week.add(home_team)\n",
    "            scheduled_this_week.add(away_team)\n",
    "            games_this_week.append(matchup)\n",
    "            break\n",
    "    print(f\"Scheduled this week: {len(scheduled_this_week)}\")\n",
    "    return games_this_week\n",
    "\n",
    "def generate_season(number_of_weeks, number_of_teams):\n",
    "    already_played = set()\n",
    "    home_games_remaining = [number_of_weeks/2 + number_of_weeks % 2]* number_of_teams\n",
    "\n",
    "    season_games = [generate_week(number_of_teams, already_played, home_games_remaining) for week in range(number_of_weeks)]\n",
    "    random.shuffle(season_games)\n",
    "    return season_games\n",
    "            \n",
    "        "
   ]
  },
  {
   "cell_type": "code",
   "execution_count": 3,
   "id": "8b12789c-d655-434d-abf5-b9b48e583890",
   "metadata": {
    "execution": {
     "iopub.execute_input": "2023-01-26T04:56:59.766502Z",
     "iopub.status.busy": "2023-01-26T04:56:59.766200Z",
     "iopub.status.idle": "2023-01-26T04:56:59.770983Z",
     "shell.execute_reply": "2023-01-26T04:56:59.770356Z",
     "shell.execute_reply.started": "2023-01-26T04:56:59.766474Z"
    },
    "tags": []
   },
   "outputs": [
    {
     "name": "stdout",
     "output_type": "stream",
     "text": [
      "Scheduled this week: 16\n",
      "Scheduled this week: 16\n",
      "Scheduled this week: 16\n",
      "Scheduled this week: 16\n",
      "Scheduled this week: 16\n",
      "Scheduled this week: 16\n",
      "Scheduled this week: 16\n",
      "Scheduled this week: 16\n",
      "Scheduled this week: 16\n",
      "Scheduled this week: 16\n"
     ]
    }
   ],
   "source": [
    "season = generate_season(10, 16)"
   ]
  },
  {
   "cell_type": "code",
   "execution_count": 4,
   "id": "fdcd9764-9100-4549-a63b-dd5faf1ddc1b",
   "metadata": {
    "execution": {
     "iopub.execute_input": "2023-01-26T04:57:01.950045Z",
     "iopub.status.busy": "2023-01-26T04:57:01.949718Z",
     "iopub.status.idle": "2023-01-26T04:57:01.954770Z",
     "shell.execute_reply": "2023-01-26T04:57:01.954210Z",
     "shell.execute_reply.started": "2023-01-26T04:57:01.950019Z"
    },
    "tags": []
   },
   "outputs": [
    {
     "name": "stdout",
     "output_type": "stream",
     "text": [
      "[[(0, 5), (1, 4), (2, 7), (3, 6), (8, 13), (9, 12), (10, 15), (11, 14)],\n",
      " [(0, 3), (1, 2), (4, 7), (5, 6), (8, 11), (9, 10), (12, 15), (13, 14)],\n",
      " [(1, 6), (2, 4), (3, 5), (7, 0), (9, 14), (10, 12), (11, 13), (15, 8)],\n",
      " [(3, 8), (4, 9), (5, 10), (6, 11), (7, 12), (13, 0), (14, 1), (15, 2)],\n",
      " [(4, 8), (5, 9), (6, 10), (7, 11), (12, 0), (13, 1), (14, 2), (15, 3)],\n",
      " [(0, 1), (2, 3), (4, 5), (6, 7), (8, 9), (10, 11), (12, 13), (14, 15)],\n",
      " [(0, 2), (1, 3), (4, 6), (5, 7), (8, 10), (9, 11), (12, 14), (13, 15)],\n",
      " [(0, 4), (1, 5), (2, 6), (3, 7), (8, 12), (9, 13), (10, 14), (11, 15)],\n",
      " [(5, 8), (6, 9), (7, 10), (11, 0), (12, 1), (13, 2), (14, 3), (15, 4)],\n",
      " [(2, 5), (3, 4), (6, 0), (7, 1), (10, 13), (11, 12), (14, 8), (15, 9)]]\n"
     ]
    }
   ],
   "source": [
    "import pprint\n",
    "\n",
    "pp = pprint.PrettyPrinter()\n",
    "pp.pprint(season)"
   ]
  },
  {
   "cell_type": "code",
   "execution_count": 5,
   "id": "d2a9cc22-2fb6-4012-8540-7374512f34f5",
   "metadata": {
    "execution": {
     "iopub.execute_input": "2023-01-26T04:57:50.852151Z",
     "iopub.status.busy": "2023-01-26T04:57:50.851827Z",
     "iopub.status.idle": "2023-01-26T04:57:50.856643Z",
     "shell.execute_reply": "2023-01-26T04:57:50.855906Z",
     "shell.execute_reply.started": "2023-01-26T04:57:50.852124Z"
    },
    "tags": []
   },
   "outputs": [],
   "source": [
    "\n",
    "# usage: get_team_matchups(3) returns list of matchups team 3 is in\n",
    "def get_team_matchups(team, season):\n",
    "    def get_team_matchups(weekly_matchups):\n",
    "        return next(filter(lambda matchup: team in matchup, weekly_matchups))\n",
    "    \n",
    "    return list(map(get_team_matchups, season))"
   ]
  },
  {
   "cell_type": "code",
   "execution_count": 9,
   "id": "05c58185-5360-481f-a570-ab4475411514",
   "metadata": {
    "execution": {
     "iopub.execute_input": "2023-01-26T04:58:33.561184Z",
     "iopub.status.busy": "2023-01-26T04:58:33.560501Z",
     "iopub.status.idle": "2023-01-26T04:58:33.566504Z",
     "shell.execute_reply": "2023-01-26T04:58:33.565850Z",
     "shell.execute_reply.started": "2023-01-26T04:58:33.561153Z"
    },
    "tags": []
   },
   "outputs": [
    {
     "data": {
      "text/plain": [
       "[(2, 7),\n",
       " (4, 7),\n",
       " (7, 0),\n",
       " (7, 12),\n",
       " (7, 11),\n",
       " (6, 7),\n",
       " (5, 7),\n",
       " (3, 7),\n",
       " (7, 10),\n",
       " (7, 1)]"
      ]
     },
     "execution_count": 9,
     "metadata": {},
     "output_type": "execute_result"
    }
   ],
   "source": [
    "get_team_matchups(7, season)"
   ]
  },
  {
   "cell_type": "code",
   "execution_count": null,
   "id": "fa72ff20-3984-422e-a550-dbafcc313a33",
   "metadata": {},
   "outputs": [],
   "source": []
  }
 ],
 "metadata": {
  "kernelspec": {
   "display_name": "Python 3 (ipykernel)",
   "language": "python",
   "name": "python3"
  },
  "language_info": {
   "codemirror_mode": {
    "name": "ipython",
    "version": 3
   },
   "file_extension": ".py",
   "mimetype": "text/x-python",
   "name": "python",
   "nbconvert_exporter": "python",
   "pygments_lexer": "ipython3",
   "version": "3.8.10"
  }
 },
 "nbformat": 4,
 "nbformat_minor": 5
}
