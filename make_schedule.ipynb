{
 "cells": [
  {
   "cell_type": "code",
   "execution_count": null,
   "id": "16f63d51-fc38-4ba4-a44a-85d0247084b9",
   "metadata": {},
   "outputs": [],
   "source": [
    "teams = 16\n",
    "weeks = 10"
   ]
  },
  {
   "cell_type": "code",
   "execution_count": null,
   "id": "84ec50e1-a08a-4718-90e0-d13e2d9ba5e5",
   "metadata": {
    "tags": []
   },
   "outputs": [],
   "source": [
    "import random\n",
    "\n",
    "def generate_week(number_of_teams, already_played, home_games_remaining):\n",
    "    scheduled_this_week = set()\n",
    "    games_this_week = []\n",
    "    \n",
    "    home_ordering = list(range(number_of_teams))\n",
    "    #random.shuffle(home_ordering)\n",
    "    for home_team in home_ordering:\n",
    "        if home_team in scheduled_this_week: continue # team is already scheduled this week\n",
    "            \n",
    "        # Count it as a home game if there are home games remaining\n",
    "        if home_games_remaining[home_team] == 0: continue\n",
    "        home_games_remaining[home_team] -= 1\n",
    "        \n",
    "        away_ordering = list(range(number_of_teams))\n",
    "        #random.shuffle(away_ordering)\n",
    "        for away_team in away_ordering:\n",
    "            if away_team in scheduled_this_week: continue # opponent is already scheduled\n",
    "            if home_team == away_team: continue # team won't play itself\n",
    "            \n",
    "            matchup = home_team, away_team\n",
    "            sorted_match = tuple(sorted(matchup)) # use sorted match to check if teams already played\n",
    "            if sorted_match in already_played: continue # teams have played earlier in the season\n",
    "            \n",
    "            # schedule the game!\n",
    "            already_played.add(sorted_match)\n",
    "            scheduled_this_week.add(home_team)\n",
    "            scheduled_this_week.add(away_team)\n",
    "            games_this_week.append(matchup)\n",
    "            break\n",
    "    print(f\"Scheduled this week: {len(scheduled_this_week)}\")\n",
    "    return games_this_week\n",
    "\n",
    "def generate_season(number_of_weeks, number_of_teams):\n",
    "    already_played = set()\n",
    "    home_games_remaining = [number_of_weeks/2 + number_of_weeks % 2]* number_of_teams\n",
    "\n",
    "    season_games = [generate_week(number_of_teams, already_played, home_games_remaining) for week in range(number_of_weeks)]\n",
    "    random.shuffle(season_games)\n",
    "    return season_games\n",
    "            \n",
    "        "
   ]
  },
  {
   "cell_type": "code",
   "execution_count": null,
   "id": "8b12789c-d655-434d-abf5-b9b48e583890",
   "metadata": {
    "tags": []
   },
   "outputs": [],
   "source": [
    "season = generate_season(10, 16)"
   ]
  },
  {
   "cell_type": "code",
   "execution_count": null,
   "id": "fdcd9764-9100-4549-a63b-dd5faf1ddc1b",
   "metadata": {
    "tags": []
   },
   "outputs": [],
   "source": [
    "import pprint\n",
    "\n",
    "pp = pprint.PrettyPrinter()\n",
    "pp.pprint(season)"
   ]
  },
  {
   "cell_type": "code",
   "execution_count": null,
   "id": "d2a9cc22-2fb6-4012-8540-7374512f34f5",
   "metadata": {
    "tags": []
   },
   "outputs": [],
   "source": [
    "\n",
    "# usage: get_team_matchups(3) returns list of matchups team 3 is in\n",
    "def get_team_matchups(team, season):\n",
    "    def get_team_matchups(weekly_matchups):\n",
    "        return next(filter(lambda matchup: team in matchup, weekly_matchups))\n",
    "    \n",
    "    return list(map(get_team_matchups, season))"
   ]
  },
  {
   "cell_type": "code",
   "execution_count": null,
   "id": "05c58185-5360-481f-a570-ab4475411514",
   "metadata": {
    "tags": []
   },
   "outputs": [],
   "source": [
    "get_team_matchups(7, season)"
   ]
  },
  {
   "cell_type": "code",
   "execution_count": null,
   "id": "fa72ff20-3984-422e-a550-dbafcc313a33",
   "metadata": {},
   "outputs": [],
   "source": []
  }
 ],
 "metadata": {
  "kernelspec": {
   "display_name": "Python 3 (ipykernel)",
   "language": "python",
   "name": "python3"
  },
  "language_info": {
   "codemirror_mode": {
    "name": "ipython",
    "version": 3
   },
   "file_extension": ".py",
   "mimetype": "text/x-python",
   "name": "python",
   "nbconvert_exporter": "python",
   "pygments_lexer": "ipython3",
   "version": "3.8.10"
  }
 },
 "nbformat": 4,
 "nbformat_minor": 5
}
